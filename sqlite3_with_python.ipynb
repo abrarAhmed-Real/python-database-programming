{
  "cells": [
    {
      "cell_type": "code",
      "execution_count": null,
      "metadata": {
        "id": "Ypmkucg6yY7Y"
      },
      "outputs": [],
      "source": [
        "import sqlite3"
      ]
    },
    {
      "cell_type": "code",
      "execution_count": null,
      "metadata": {
        "id": "EkXXg6EyygeX"
      },
      "outputs": [],
      "source": [
        "con=sqlite3.connect('customers.db')"
      ]
    },
    {
      "cell_type": "code",
      "execution_count": null,
      "metadata": {
        "id": "2vRBKv0Hyrp7"
      },
      "outputs": [],
      "source": [
        "cur=con.cursor()"
      ]
    },
    {
      "cell_type": "markdown",
      "metadata": {
        "id": "c3GPJo860ytX"
      },
      "source": [
        "**Creating a table**"
      ]
    },
    {
      "cell_type": "code",
      "execution_count": null,
      "metadata": {
        "colab": {
          "base_uri": "https://localhost:8080/"
        },
        "id": "vm2sAKOgzApQ",
        "outputId": "9ca79c97-7607-40ef-eb0b-010a99be5a5c"
      },
      "outputs": [
        {
          "output_type": "execute_result",
          "data": {
            "text/plain": [
              "<sqlite3.Cursor at 0x787a335a3940>"
            ]
          },
          "metadata": {},
          "execution_count": 4
        }
      ],
      "source": [
        "#NULL\n",
        "#Integer\n",
        "#Text\n",
        "#Real\n",
        "#Blob\n",
        "\n",
        "cur.execute(\"\"\"\n",
        "          CREATE TABLE IF NOT EXISTS customers (\n",
        "            first_name text,\n",
        "            last_name text,\n",
        "            email text,\n",
        "            salary number\n",
        "\n",
        "\n",
        "          )\n",
        "\n",
        "\"\"\")"
      ]
    },
    {
      "cell_type": "code",
      "source": [],
      "metadata": {
        "id": "y1W1pTfI3k65"
      },
      "execution_count": null,
      "outputs": []
    },
    {
      "cell_type": "markdown",
      "metadata": {
        "id": "rBwoNAJF02bD"
      },
      "source": [
        "**Inserting single entries**"
      ]
    },
    {
      "cell_type": "code",
      "execution_count": null,
      "metadata": {
        "id": "FuVMxYUKz4eq"
      },
      "outputs": [],
      "source": []
    },
    {
      "cell_type": "code",
      "execution_count": null,
      "metadata": {
        "id": "WnjYIv_oz88I",
        "colab": {
          "base_uri": "https://localhost:8080/"
        },
        "outputId": "a60bdc2a-8040-4884-959b-90d68c8444db"
      },
      "outputs": [
        {
          "output_type": "execute_result",
          "data": {
            "text/plain": [
              "<sqlite3.Cursor at 0x787a335a3940>"
            ]
          },
          "metadata": {},
          "execution_count": 5
        }
      ],
      "source": [
        "cur.execute(\"INSERT INTO customers VALUES ('Ahmed', 'Abrar', 'abrar@gmail.com',50000)\")\n"
      ]
    },
    {
      "cell_type": "code",
      "execution_count": null,
      "metadata": {
        "id": "WTLRfaFz0gGL",
        "colab": {
          "base_uri": "https://localhost:8080/"
        },
        "outputId": "03386601-cf0d-4879-abb8-12c4343795c7"
      },
      "outputs": [
        {
          "output_type": "execute_result",
          "data": {
            "text/plain": [
              "<sqlite3.Cursor at 0x787a335a3940>"
            ]
          },
          "metadata": {},
          "execution_count": 6
        }
      ],
      "source": [
        "cur.execute(\"INSERT INTO customers VALUES ('Khan', 'ALi', 'ALi@gmail.com',60000)\")\n"
      ]
    },
    {
      "cell_type": "markdown",
      "metadata": {
        "id": "Obd4Y28X058K"
      },
      "source": [
        "**Inserting multiple entries**"
      ]
    },
    {
      "cell_type": "code",
      "execution_count": null,
      "metadata": {
        "id": "ZfzuFw5j0s3K"
      },
      "outputs": [],
      "source": [
        "data=[\n",
        "    ('Jabar','Kahn','jabar@gmail.com',8000),\n",
        "    ('Mehemt','Kahn','mehmet@gmail.com',9000),\n",
        "    ('Murad','Shah','Murad@gmail.com',3000),\n",
        "]"
      ]
    },
    {
      "cell_type": "code",
      "execution_count": null,
      "metadata": {
        "id": "V4fuT8wf1t_i",
        "colab": {
          "base_uri": "https://localhost:8080/"
        },
        "outputId": "29e4f0ad-6bb4-44f1-c49f-895b8ba5ebd7"
      },
      "outputs": [
        {
          "output_type": "execute_result",
          "data": {
            "text/plain": [
              "<sqlite3.Cursor at 0x787a335a3940>"
            ]
          },
          "metadata": {},
          "execution_count": 8
        }
      ],
      "source": [
        "cur.executemany(\"INSERT INTO customers (first_name,last_name,email,salary) VALUES(?,?,?,?)\",data)\n"
      ]
    },
    {
      "cell_type": "code",
      "source": [
        "con.commit()"
      ],
      "metadata": {
        "id": "sNZPGaJR23Yc"
      },
      "execution_count": null,
      "outputs": []
    },
    {
      "cell_type": "markdown",
      "metadata": {
        "id": "kTTQ6bK52FNV"
      },
      "source": [
        "Reterieving Data"
      ]
    },
    {
      "cell_type": "code",
      "execution_count": null,
      "metadata": {
        "id": "UxTa7RJJ2Joh",
        "colab": {
          "base_uri": "https://localhost:8080/"
        },
        "outputId": "1750be56-e787-480b-95e4-2fb1fdcef4e9"
      },
      "outputs": [
        {
          "output_type": "execute_result",
          "data": {
            "text/plain": [
              "<sqlite3.Cursor at 0x787a335a3940>"
            ]
          },
          "metadata": {},
          "execution_count": 10
        }
      ],
      "source": [
        "cur.execute(\"SELECT * FROM Customers\")\n",
        "\n"
      ]
    },
    {
      "cell_type": "code",
      "source": [
        "print(cur.fetchall())"
      ],
      "metadata": {
        "colab": {
          "base_uri": "https://localhost:8080/"
        },
        "id": "t9WwMxHn1y07",
        "outputId": "b530d094-c987-42c0-e286-ef699af9c89a"
      },
      "execution_count": null,
      "outputs": [
        {
          "output_type": "stream",
          "name": "stdout",
          "text": [
            "[('Ahmed', 'Abrar', 'abrar@gmail.com', 50000), ('Khan', 'ALi', 'ALi@gmail.com', 60000), ('Jabar', 'Kahn', 'jabar@gmail.com', 8000), ('Mehemt', 'Kahn', 'mehmet@gmail.com', 9000), ('Murad', 'Shah', 'Murad@gmail.com', 3000)]\n"
          ]
        }
      ]
    },
    {
      "cell_type": "code",
      "source": [
        "print(cur.fetchmany(3))"
      ],
      "metadata": {
        "colab": {
          "base_uri": "https://localhost:8080/"
        },
        "id": "Mg81JeEWN7MB",
        "outputId": "962cdabb-c486-4a72-cb26-273c000f4d28"
      },
      "execution_count": null,
      "outputs": [
        {
          "output_type": "stream",
          "name": "stdout",
          "text": [
            "[]\n"
          ]
        }
      ]
    },
    {
      "cell_type": "code",
      "source": [
        "print(cur.fetchone())"
      ],
      "metadata": {
        "colab": {
          "base_uri": "https://localhost:8080/"
        },
        "id": "XoaxwxIaN_Bh",
        "outputId": "1cb5bf8c-f584-4c3e-fe4f-bf73534e641e"
      },
      "execution_count": null,
      "outputs": [
        {
          "output_type": "stream",
          "name": "stdout",
          "text": [
            "None\n"
          ]
        }
      ]
    },
    {
      "cell_type": "markdown",
      "source": [
        "**The Where Clause**"
      ],
      "metadata": {
        "id": "meqcploOOCHu"
      }
    },
    {
      "cell_type": "code",
      "source": [
        "cur.execute(\"SELECT * FROM Customers WHERE first_name='Ahmed'\")"
      ],
      "metadata": {
        "colab": {
          "base_uri": "https://localhost:8080/"
        },
        "id": "SDAz-UQ08gWP",
        "outputId": "0c54ed5e-9a14-4183-9fed-1c62da0119cb"
      },
      "execution_count": null,
      "outputs": [
        {
          "output_type": "execute_result",
          "data": {
            "text/plain": [
              "<sqlite3.Cursor at 0x787a335a3940>"
            ]
          },
          "metadata": {},
          "execution_count": 14
        }
      ]
    },
    {
      "cell_type": "code",
      "execution_count": null,
      "metadata": {
        "id": "ddH6YAJ42T-d",
        "colab": {
          "base_uri": "https://localhost:8080/"
        },
        "outputId": "51eba50f-26ab-4c49-a560-93af83145c5a"
      },
      "outputs": [
        {
          "output_type": "stream",
          "name": "stdout",
          "text": [
            "[('Ahmed', 'Abrar', 'abrar@gmail.com', 50000)]\n"
          ]
        }
      ],
      "source": [
        "print(cur.fetchall())"
      ]
    },
    {
      "cell_type": "code",
      "source": [
        "cur.execute('SELECT * FROM Customers WHERE salary > 1000')"
      ],
      "metadata": {
        "colab": {
          "base_uri": "https://localhost:8080/"
        },
        "id": "uMrkbRMd84-o",
        "outputId": "ae35c0ee-461d-4a14-9ecf-1c5973cfe3cc"
      },
      "execution_count": null,
      "outputs": [
        {
          "output_type": "execute_result",
          "data": {
            "text/plain": [
              "<sqlite3.Cursor at 0x787a335a3940>"
            ]
          },
          "metadata": {},
          "execution_count": 16
        }
      ]
    },
    {
      "cell_type": "code",
      "source": [
        "print(cur.fetchall())"
      ],
      "metadata": {
        "id": "xTY7AjVcxMx8",
        "colab": {
          "base_uri": "https://localhost:8080/"
        },
        "outputId": "0a49fa8b-0edf-4445-f4f8-689a028ec201"
      },
      "execution_count": null,
      "outputs": [
        {
          "output_type": "stream",
          "name": "stdout",
          "text": [
            "[('Ahmed', 'Abrar', 'abrar@gmail.com', 50000), ('Khan', 'ALi', 'ALi@gmail.com', 60000), ('Jabar', 'Kahn', 'jabar@gmail.com', 8000), ('Mehemt', 'Kahn', 'mehmet@gmail.com', 9000), ('Murad', 'Shah', 'Murad@gmail.com', 3000)]\n"
          ]
        }
      ]
    },
    {
      "cell_type": "code",
      "source": [
        "cur.execute(\"SELECT * FROM customers WHERE first_name LIKE 'A%'\")"
      ],
      "metadata": {
        "id": "PaT-VZdQxSZQ",
        "colab": {
          "base_uri": "https://localhost:8080/"
        },
        "outputId": "f5b1cf2b-2ed3-4e78-b6d9-35bff4ff99ef"
      },
      "execution_count": null,
      "outputs": [
        {
          "output_type": "execute_result",
          "data": {
            "text/plain": [
              "<sqlite3.Cursor at 0x787a335a3940>"
            ]
          },
          "metadata": {},
          "execution_count": 18
        }
      ]
    },
    {
      "cell_type": "code",
      "source": [
        "print(cur.fetchall())"
      ],
      "metadata": {
        "colab": {
          "base_uri": "https://localhost:8080/"
        },
        "id": "VjESWF7V9bc7",
        "outputId": "8bbac8e1-ec6c-4eb2-9c7b-4fc08cce932b"
      },
      "execution_count": null,
      "outputs": [
        {
          "output_type": "stream",
          "name": "stdout",
          "text": [
            "[('Ahmed', 'Abrar', 'abrar@gmail.com', 50000)]\n"
          ]
        }
      ]
    },
    {
      "cell_type": "markdown",
      "source": [
        "Updating records"
      ],
      "metadata": {
        "id": "lwFaAsQ3OVYz"
      }
    },
    {
      "cell_type": "code",
      "source": [
        "cur.execute(\"UPDATE customers SET first_name='Jan' WHERE last_name='ALi'\")"
      ],
      "metadata": {
        "colab": {
          "base_uri": "https://localhost:8080/"
        },
        "id": "zKBqJGUw97ve",
        "outputId": "d1878450-4b2f-4652-8b31-6b57f35731cf"
      },
      "execution_count": null,
      "outputs": [
        {
          "output_type": "execute_result",
          "data": {
            "text/plain": [
              "<sqlite3.Cursor at 0x787a335a3940>"
            ]
          },
          "metadata": {},
          "execution_count": 23
        }
      ]
    },
    {
      "cell_type": "code",
      "source": [
        "cur.execute(\"SELECT first_name FROM customers\")"
      ],
      "metadata": {
        "colab": {
          "base_uri": "https://localhost:8080/"
        },
        "id": "LflCJC_k-OL-",
        "outputId": "4c348a2b-7906-4056-ad5c-d832daee3437"
      },
      "execution_count": null,
      "outputs": [
        {
          "output_type": "execute_result",
          "data": {
            "text/plain": [
              "<sqlite3.Cursor at 0x787a335a3940>"
            ]
          },
          "metadata": {},
          "execution_count": 24
        }
      ]
    },
    {
      "cell_type": "code",
      "source": [
        "print(cur.fetchall())"
      ],
      "metadata": {
        "colab": {
          "base_uri": "https://localhost:8080/"
        },
        "id": "h6BOdnt6-bcN",
        "outputId": "3d0f3ffe-45dc-4d27-9cfa-79c6f9932724"
      },
      "execution_count": null,
      "outputs": [
        {
          "output_type": "stream",
          "name": "stdout",
          "text": [
            "[('Ahmed',), ('Jan',), ('Jabar',), ('Mehemt',), ('Murad',)]\n"
          ]
        }
      ]
    },
    {
      "cell_type": "markdown",
      "source": [
        "Deleting Data"
      ],
      "metadata": {
        "id": "ugEH8o5zOtgo"
      }
    },
    {
      "cell_type": "code",
      "source": [
        "# deleting 3rd record\n",
        "cur.execute('DELETE FROM customers WHERE rowid=3')"
      ],
      "metadata": {
        "colab": {
          "base_uri": "https://localhost:8080/"
        },
        "id": "kod_LqUpOq0W",
        "outputId": "66aa9466-f4fd-409f-fe99-20a0b813c879"
      },
      "execution_count": null,
      "outputs": [
        {
          "output_type": "execute_result",
          "data": {
            "text/plain": [
              "<sqlite3.Cursor at 0x787a335a3940>"
            ]
          },
          "metadata": {},
          "execution_count": 26
        }
      ]
    },
    {
      "cell_type": "code",
      "source": [
        "cur.execute('SELECT rowid from customers')"
      ],
      "metadata": {
        "colab": {
          "base_uri": "https://localhost:8080/"
        },
        "id": "9bwZYLusOq9_",
        "outputId": "dd3c0851-02dc-4d51-8e13-9cf658186e2f"
      },
      "execution_count": null,
      "outputs": [
        {
          "output_type": "execute_result",
          "data": {
            "text/plain": [
              "<sqlite3.Cursor at 0x787a335a3940>"
            ]
          },
          "metadata": {},
          "execution_count": 27
        }
      ]
    },
    {
      "cell_type": "code",
      "source": [
        "print(cur.fetchall())"
      ],
      "metadata": {
        "colab": {
          "base_uri": "https://localhost:8080/"
        },
        "id": "qM1yxQ2LO5Ae",
        "outputId": "15e7d440-e97a-4c6f-8703-d0e9b82b3f0c"
      },
      "execution_count": null,
      "outputs": [
        {
          "output_type": "stream",
          "name": "stdout",
          "text": [
            "[(1,), (2,), (4,), (5,)]\n"
          ]
        }
      ]
    },
    {
      "cell_type": "markdown",
      "source": [
        "Order By"
      ],
      "metadata": {
        "id": "gmiz6v88PGeC"
      }
    },
    {
      "cell_type": "code",
      "source": [
        "cur.execute('SELECT * FROM customers ORDER BY first_name')"
      ],
      "metadata": {
        "colab": {
          "base_uri": "https://localhost:8080/"
        },
        "id": "gv5rSpbOO6xp",
        "outputId": "c8cd51bf-87a2-4e09-be04-8896b79aeb93"
      },
      "execution_count": null,
      "outputs": [
        {
          "output_type": "execute_result",
          "data": {
            "text/plain": [
              "<sqlite3.Cursor at 0x787a335a3940>"
            ]
          },
          "metadata": {},
          "execution_count": 31
        }
      ]
    },
    {
      "cell_type": "code",
      "source": [
        "print(cur.fetchall())"
      ],
      "metadata": {
        "colab": {
          "base_uri": "https://localhost:8080/"
        },
        "id": "5bc5wSsNPQ5T",
        "outputId": "0e35d24d-3373-4558-ccc4-2cf734b4fc51"
      },
      "execution_count": null,
      "outputs": [
        {
          "output_type": "stream",
          "name": "stdout",
          "text": [
            "[('Ahmed', 'Abrar', 'abrar@gmail.com', 50000), ('Jan', 'ALi', 'ALi@gmail.com', 60000), ('Mehemt', 'Kahn', 'mehmet@gmail.com', 9000), ('Murad', 'Shah', 'Murad@gmail.com', 3000)]\n"
          ]
        }
      ]
    },
    {
      "cell_type": "markdown",
      "source": [
        "AND/OR"
      ],
      "metadata": {
        "id": "x_YwCCjlPfG9"
      }
    },
    {
      "cell_type": "code",
      "source": [
        "cur.execute(\"SELECT * FROM customers WHERE first_name='Ahmed' AND salary=50000 \")"
      ],
      "metadata": {
        "colab": {
          "base_uri": "https://localhost:8080/"
        },
        "id": "ZwNww65CPSih",
        "outputId": "383a7e17-0592-44cb-b622-1a61350d5f8c"
      },
      "execution_count": null,
      "outputs": [
        {
          "output_type": "execute_result",
          "data": {
            "text/plain": [
              "<sqlite3.Cursor at 0x787a335a3940>"
            ]
          },
          "metadata": {},
          "execution_count": 33
        }
      ]
    },
    {
      "cell_type": "code",
      "source": [
        "print(cur.fetchall())"
      ],
      "metadata": {
        "colab": {
          "base_uri": "https://localhost:8080/"
        },
        "id": "LZqNW9ZxP3Cu",
        "outputId": "aedc6e66-a3aa-4a35-d0a0-55ef4fbc5d02"
      },
      "execution_count": null,
      "outputs": [
        {
          "output_type": "stream",
          "name": "stdout",
          "text": [
            "[('Ahmed', 'Abrar', 'abrar@gmail.com', 50000)]\n"
          ]
        }
      ]
    },
    {
      "cell_type": "code",
      "source": [
        "cur.execute(\"SELECT * FROM customers WHERE first_name='Ahmed' OR first_name='Jan'\")"
      ],
      "metadata": {
        "colab": {
          "base_uri": "https://localhost:8080/"
        },
        "id": "VhgCQjcZP6z7",
        "outputId": "6fcdfb5b-8c50-4b91-d564-d1e5f90f6af5"
      },
      "execution_count": null,
      "outputs": [
        {
          "output_type": "execute_result",
          "data": {
            "text/plain": [
              "<sqlite3.Cursor at 0x787a335a3940>"
            ]
          },
          "metadata": {},
          "execution_count": 35
        }
      ]
    },
    {
      "cell_type": "code",
      "source": [
        "print(cur.fetchall())"
      ],
      "metadata": {
        "colab": {
          "base_uri": "https://localhost:8080/"
        },
        "id": "r6UkqiFXQEaE",
        "outputId": "659f5149-ea6c-430d-d0bc-b65cac699774"
      },
      "execution_count": null,
      "outputs": [
        {
          "output_type": "stream",
          "name": "stdout",
          "text": [
            "[('Ahmed', 'Abrar', 'abrar@gmail.com', 50000), ('Jan', 'ALi', 'ALi@gmail.com', 60000)]\n"
          ]
        }
      ]
    },
    {
      "cell_type": "markdown",
      "source": [
        "LIMIT"
      ],
      "metadata": {
        "id": "36OS5RLMQN4s"
      }
    },
    {
      "cell_type": "code",
      "source": [
        "cur.execute(\"SELECT * FROM customers LIMIT 2\")"
      ],
      "metadata": {
        "colab": {
          "base_uri": "https://localhost:8080/"
        },
        "id": "mVJdaOFUQGCw",
        "outputId": "0257bc6c-ad6e-4029-c2c1-d458cab8b050"
      },
      "execution_count": null,
      "outputs": [
        {
          "output_type": "execute_result",
          "data": {
            "text/plain": [
              "<sqlite3.Cursor at 0x787a335a3940>"
            ]
          },
          "metadata": {},
          "execution_count": 37
        }
      ]
    },
    {
      "cell_type": "code",
      "source": [
        "print(cur.fetchall())"
      ],
      "metadata": {
        "colab": {
          "base_uri": "https://localhost:8080/"
        },
        "id": "T9n06wDVQT0a",
        "outputId": "f72e992a-f652-41f3-e874-623b0651fa48"
      },
      "execution_count": null,
      "outputs": [
        {
          "output_type": "stream",
          "name": "stdout",
          "text": [
            "[('Ahmed', 'Abrar', 'abrar@gmail.com', 50000), ('Jan', 'ALi', 'ALi@gmail.com', 60000)]\n"
          ]
        }
      ]
    },
    {
      "cell_type": "markdown",
      "source": [
        "Deleting a table"
      ],
      "metadata": {
        "id": "kHAOIRzEQio_"
      }
    },
    {
      "cell_type": "code",
      "source": [
        "cur.execute('DROP TABLE customers')\n",
        "con.commit()"
      ],
      "metadata": {
        "id": "Zr8q7u8dQVqD"
      },
      "execution_count": null,
      "outputs": []
    },
    {
      "cell_type": "code",
      "source": [
        "cur.execute('SELECT * FROM customers')"
      ],
      "metadata": {
        "colab": {
          "base_uri": "https://localhost:8080/",
          "height": 182
        },
        "id": "sfEOV1bNQolu",
        "outputId": "fc5110b9-59a5-4be7-a9c7-3aa167abb2b1"
      },
      "execution_count": null,
      "outputs": [
        {
          "output_type": "error",
          "ename": "OperationalError",
          "evalue": "ignored",
          "traceback": [
            "\u001b[0;31m---------------------------------------------------------------------------\u001b[0m",
            "\u001b[0;31mOperationalError\u001b[0m                          Traceback (most recent call last)",
            "\u001b[0;32m<ipython-input-41-b84c160a92d5>\u001b[0m in \u001b[0;36m<cell line: 1>\u001b[0;34m()\u001b[0m\n\u001b[0;32m----> 1\u001b[0;31m \u001b[0mcur\u001b[0m\u001b[0;34m.\u001b[0m\u001b[0mexecute\u001b[0m\u001b[0;34m(\u001b[0m\u001b[0;34m'SELECT * FROM customers'\u001b[0m\u001b[0;34m)\u001b[0m\u001b[0;34m\u001b[0m\u001b[0;34m\u001b[0m\u001b[0m\n\u001b[0m",
            "\u001b[0;31mOperationalError\u001b[0m: no such table: customers"
          ]
        }
      ]
    },
    {
      "cell_type": "markdown",
      "source": [
        "combining all these"
      ],
      "metadata": {
        "id": "j1zOzyAQRhF2"
      }
    },
    {
      "cell_type": "code",
      "source": [
        "con=sqlite3.connect('mydb.db')\n",
        "cur=con.cursor()\n",
        "cur.execute(\"CREATE TABLE customers(name TEXT , last_name TEXT , email TEXT , salary REAL)\")\n"
      ],
      "metadata": {
        "colab": {
          "base_uri": "https://localhost:8080/"
        },
        "id": "tJBSaUBIS5b4",
        "outputId": "f68a6ab3-ec3d-4426-8600-da18a1c025cf"
      },
      "execution_count": null,
      "outputs": [
        {
          "output_type": "execute_result",
          "data": {
            "text/plain": [
              "<sqlite3.Cursor at 0x787a16096440>"
            ]
          },
          "metadata": {},
          "execution_count": 42
        }
      ]
    },
    {
      "cell_type": "code",
      "source": [
        "def addOne(name,last_name,email,salary):\n",
        "  con=sqlite3.connect('mydb.db')\n",
        "  cur=con.cursor()\n",
        "  cur.execute('INSERT INTO customers VALUES (?,?,?,?)',(name,last_name,email,salary))\n",
        "  con.commit()\n",
        "  con.close()\n",
        "\n",
        "def addMany(entries):\n",
        "  con=sqlite3.connect('mydb.db')\n",
        "  cur=con.cursor()\n",
        "  cur.execute('INSERT INTO customers VALUES (?,?,?,?)',entries)\n",
        "  con.commit()\n",
        "  con.close()\n",
        "def showAll():\n",
        "  con=sqlite3.connect('mydb.db')\n",
        "  cur=con.cursor()\n",
        "  cur.execute(\"SELECT * FROM customers\")\n",
        "  con.commit()\n",
        "  print(cur.fetchall())\n",
        "  con.close()\n",
        "\n",
        "def deleteOne(id):\n",
        "  con=sqlite3.connect('mydb.db')\n",
        "  cur=con.cursor()\n",
        "  cur.execute(\"DELETE FROM customers WHERE id=(?)\",id)\n",
        "  con.commit()\n",
        "  con.close()\n",
        "\n"
      ],
      "metadata": {
        "id": "tNzilcQcQvAA"
      },
      "execution_count": null,
      "outputs": []
    },
    {
      "cell_type": "code",
      "source": [
        "addOne('name','second','asd@gmail.com',2342)"
      ],
      "metadata": {
        "id": "CTxiPwEnTQme"
      },
      "execution_count": null,
      "outputs": []
    },
    {
      "cell_type": "code",
      "source": [
        "showAll()"
      ],
      "metadata": {
        "colab": {
          "base_uri": "https://localhost:8080/"
        },
        "id": "HX-mzIoITQ6u",
        "outputId": "5ccb3a48-18af-45ce-ae49-053334532fa5"
      },
      "execution_count": null,
      "outputs": [
        {
          "output_type": "stream",
          "name": "stdout",
          "text": [
            "[('name', 'second', 'asd@gmail.com', 2342.0)]\n"
          ]
        }
      ]
    },
    {
      "cell_type": "code",
      "source": [
        "data=[\n",
        "    ('Jabar','Kahn','jabar@gmail.com',8000),\n",
        "    ('Mehemt','Kahn','mehmet@gmail.com',9000),\n",
        "    ('Murad','Shah','Murad@gmail.com',3000),\n",
        "]"
      ],
      "metadata": {
        "id": "2XTIORylTjYN"
      },
      "execution_count": null,
      "outputs": []
    },
    {
      "cell_type": "code",
      "source": [
        "addMany(data)"
      ],
      "metadata": {
        "colab": {
          "base_uri": "https://localhost:8080/",
          "height": 311
        },
        "id": "9vBJIxpRTYY9",
        "outputId": "64771189-0dcd-4dd2-836c-dd2642dd8301"
      },
      "execution_count": null,
      "outputs": [
        {
          "output_type": "error",
          "ename": "ProgrammingError",
          "evalue": "ignored",
          "traceback": [
            "\u001b[0;31m---------------------------------------------------------------------------\u001b[0m",
            "\u001b[0;31mProgrammingError\u001b[0m                          Traceback (most recent call last)",
            "\u001b[0;32m<ipython-input-51-2a4a1bbf4ded>\u001b[0m in \u001b[0;36m<cell line: 1>\u001b[0;34m()\u001b[0m\n\u001b[0;32m----> 1\u001b[0;31m \u001b[0maddMany\u001b[0m\u001b[0;34m(\u001b[0m\u001b[0mdata\u001b[0m\u001b[0;34m)\u001b[0m\u001b[0;34m\u001b[0m\u001b[0;34m\u001b[0m\u001b[0m\n\u001b[0m",
            "\u001b[0;32m<ipython-input-43-6310d2b66c26>\u001b[0m in \u001b[0;36maddMany\u001b[0;34m(entries)\u001b[0m\n\u001b[1;32m      9\u001b[0m   \u001b[0mcon\u001b[0m\u001b[0;34m=\u001b[0m\u001b[0msqlite3\u001b[0m\u001b[0;34m.\u001b[0m\u001b[0mconnect\u001b[0m\u001b[0;34m(\u001b[0m\u001b[0;34m'mydb.db'\u001b[0m\u001b[0;34m)\u001b[0m\u001b[0;34m\u001b[0m\u001b[0;34m\u001b[0m\u001b[0m\n\u001b[1;32m     10\u001b[0m   \u001b[0mcur\u001b[0m\u001b[0;34m=\u001b[0m\u001b[0mcon\u001b[0m\u001b[0;34m.\u001b[0m\u001b[0mcursor\u001b[0m\u001b[0;34m(\u001b[0m\u001b[0;34m)\u001b[0m\u001b[0;34m\u001b[0m\u001b[0;34m\u001b[0m\u001b[0m\n\u001b[0;32m---> 11\u001b[0;31m   \u001b[0mcur\u001b[0m\u001b[0;34m.\u001b[0m\u001b[0mexecute\u001b[0m\u001b[0;34m(\u001b[0m\u001b[0;34m'INSERT INTO customers VALUES (?,?,?,?)'\u001b[0m\u001b[0;34m,\u001b[0m\u001b[0mentries\u001b[0m\u001b[0;34m)\u001b[0m\u001b[0;34m\u001b[0m\u001b[0;34m\u001b[0m\u001b[0m\n\u001b[0m\u001b[1;32m     12\u001b[0m   \u001b[0mcon\u001b[0m\u001b[0;34m.\u001b[0m\u001b[0mcommit\u001b[0m\u001b[0;34m(\u001b[0m\u001b[0;34m)\u001b[0m\u001b[0;34m\u001b[0m\u001b[0;34m\u001b[0m\u001b[0m\n\u001b[1;32m     13\u001b[0m   \u001b[0mcon\u001b[0m\u001b[0;34m.\u001b[0m\u001b[0mclose\u001b[0m\u001b[0;34m(\u001b[0m\u001b[0;34m)\u001b[0m\u001b[0;34m\u001b[0m\u001b[0;34m\u001b[0m\u001b[0m\n",
            "\u001b[0;31mProgrammingError\u001b[0m: Incorrect number of bindings supplied. The current statement uses 4, and there are 3 supplied."
          ]
        }
      ]
    },
    {
      "cell_type": "code",
      "source": [],
      "metadata": {
        "id": "l2fdW-JCTg-b"
      },
      "execution_count": null,
      "outputs": []
    }
  ],
  "metadata": {
    "colab": {
      "provenance": []
    },
    "kernelspec": {
      "display_name": "Python 3",
      "name": "python3"
    },
    "language_info": {
      "name": "python"
    }
  },
  "nbformat": 4,
  "nbformat_minor": 0
}